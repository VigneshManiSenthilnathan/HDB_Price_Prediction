{
 "cells": [
  {
   "cell_type": "code",
   "execution_count": 27,
   "metadata": {},
   "outputs": [],
   "source": [
    "import pandas as pd\n",
    "import numpy as np\n",
    "import joblib\n",
    "from sklearn.preprocessing import OneHotEncoder, StandardScaler"
   ]
  },
  {
   "cell_type": "code",
   "execution_count": 28,
   "metadata": {},
   "outputs": [],
   "source": [
    "df = pd.read_csv('Resale flat prices based on registration date from Jan-2017 onwards.csv')"
   ]
  },
  {
   "cell_type": "code",
   "execution_count": 29,
   "metadata": {},
   "outputs": [],
   "source": [
    "# Convert 'remaining_lease' to a numerical variable (total months)\n",
    "def lease_to_months(lease):\n",
    "    parts = lease.split(' ')\n",
    "    years = int(parts[0])  # Extract years\n",
    "    months = int(parts[2]) if len(parts) > 2 else 0  # Extract months if present\n",
    "    return years * 12 + months\n",
    "\n",
    "df['remaining_lease_months'] = df['remaining_lease'].apply(lease_to_months)\n",
    "\n",
    "# Extract numerical features from 'storey_range'\n",
    "def storey_to_avg(storey_range):\n",
    "    low, high = map(int, storey_range.split(' TO '))\n",
    "    return (low + high) / 2\n",
    "\n",
    "df['average_storey'] = df['storey_range'].apply(storey_to_avg)\n",
    "\n",
    "# Extract 'year' and 'month' from the 'month' column\n",
    "df['year'] = pd.to_datetime(df['month']).dt.year\n",
    "df['month_num'] = pd.to_datetime(df['month']).dt.month\n",
    "\n",
    "# Convert 'block' column from object to int\n",
    "# df['block'] = df['block'].apply(lambda x: int(x))\n",
    "\n",
    "# Drop redundant columns\n",
    "df.drop(['month', 'storey_range', 'remaining_lease'], axis=1, inplace=True)"
   ]
  },
  {
   "cell_type": "code",
   "execution_count": 30,
   "metadata": {},
   "outputs": [],
   "source": [
    "# One-hot encoding for categorical variables\n",
    "categorical_cols = ['town', 'flat_type', 'flat_model']\n",
    "ohe = OneHotEncoder(sparse_output=False)\n",
    "encoded_features = ohe.fit_transform(df[categorical_cols])\n",
    "encoded_feature_names = ohe.get_feature_names_out(categorical_cols)\n",
    "encoded_df = pd.DataFrame(encoded_features, columns=encoded_feature_names)\n",
    "\n",
    "# Save the encoder for later use\n",
    "joblib.dump(ohe, 'models/onehotencoder.pkl')\n",
    "\n",
    "# Concatenate one-hot encoded features with the original DataFrame\n",
    "df = pd.concat([df.drop(columns=categorical_cols), encoded_df], axis=1)"
   ]
  },
  {
   "cell_type": "code",
   "execution_count": null,
   "metadata": {},
   "outputs": [
    {
     "name": "stdout",
     "output_type": "stream",
     "text": [
      "  block        street_name  resale_price  town_ANG MO KIO  town_BEDOK  \\\n",
      "0   406  ANG MO KIO AVE 10      232000.0              1.0         0.0   \n",
      "1   108   ANG MO KIO AVE 4      250000.0              1.0         0.0   \n",
      "2   602   ANG MO KIO AVE 5      262000.0              1.0         0.0   \n",
      "3   465  ANG MO KIO AVE 10      265000.0              1.0         0.0   \n",
      "4   601   ANG MO KIO AVE 5      265000.0              1.0         0.0   \n",
      "\n",
      "   town_BISHAN  town_BUKIT BATOK  town_BUKIT MERAH  town_BUKIT PANJANG  \\\n",
      "0          0.0               0.0               0.0                 0.0   \n",
      "1          0.0               0.0               0.0                 0.0   \n",
      "2          0.0               0.0               0.0                 0.0   \n",
      "3          0.0               0.0               0.0                 0.0   \n",
      "4          0.0               0.0               0.0                 0.0   \n",
      "\n",
      "   town_BUKIT TIMAH  ...  flat_model_Standard  flat_model_Terrace  \\\n",
      "0               0.0  ...                  0.0                 0.0   \n",
      "1               0.0  ...                  0.0                 0.0   \n",
      "2               0.0  ...                  0.0                 0.0   \n",
      "3               0.0  ...                  0.0                 0.0   \n",
      "4               0.0  ...                  0.0                 0.0   \n",
      "\n",
      "   flat_model_Type S1  flat_model_Type S2  floor_area_sqm  \\\n",
      "0                 0.0                 0.0       -2.206152   \n",
      "1                 0.0                 0.0       -1.249299   \n",
      "2                 0.0                 0.0       -1.249299   \n",
      "3                 0.0                 0.0       -1.207697   \n",
      "4                 0.0                 0.0       -1.249299   \n",
      "\n",
      "   lease_commence_date  remaining_lease_months  average_storey      year  \\\n",
      "0            -1.214613               -0.937183        0.377986 -1.650448   \n",
      "1            -1.285366               -0.990565       -1.138185 -1.650448   \n",
      "2            -1.143859               -0.860076       -1.138185 -1.650448   \n",
      "3            -1.143859               -0.883801       -0.632795 -1.650448   \n",
      "4            -1.143859               -0.860076       -1.138185 -1.650448   \n",
      "\n",
      "   month_num  \n",
      "0  -1.665265  \n",
      "1  -1.665265  \n",
      "2  -1.665265  \n",
      "3  -1.665265  \n",
      "4  -1.665265  \n",
      "\n",
      "[5 rows x 63 columns]\n"
     ]
    }
   ],
   "source": [
    "# Scaling numerical columns\n",
    "numerical_cols = ['floor_area_sqm', 'lease_commence_date', 'remaining_lease_months', 'average_storey', 'year', 'month_num']\n",
    "scaler = StandardScaler()\n",
    "scaled_features = scaler.fit_transform(df[numerical_cols])\n",
    "scaled_df = pd.DataFrame(scaled_features, columns=numerical_cols)\n",
    "\n",
    "# Save the encoder for later use\n",
    "joblib.dump(scaler, 'models/scaler.pkl')\n",
    "\n",
    "# Concatenate scaled features with the rest of the DataFrame\n",
    "df = pd.concat([df.drop(columns=numerical_cols), scaled_df], axis=1)\n",
    "\n",
    "# Final prepared DataFrame\n",
    "print(df.head())\n",
    "\n",
    "# Save the prepared dataset to a new file\n",
    "df.to_csv('preprocessing/hdb_resale_prepared.csv', index=False)"
   ]
  }
 ],
 "metadata": {
  "kernelspec": {
   "display_name": ".venv",
   "language": "python",
   "name": "python3"
  },
  "language_info": {
   "codemirror_mode": {
    "name": "ipython",
    "version": 3
   },
   "file_extension": ".py",
   "mimetype": "text/x-python",
   "name": "python",
   "nbconvert_exporter": "python",
   "pygments_lexer": "ipython3",
   "version": "3.10.11"
  }
 },
 "nbformat": 4,
 "nbformat_minor": 2
}
